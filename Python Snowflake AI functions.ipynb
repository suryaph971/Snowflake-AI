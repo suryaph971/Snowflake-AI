{
 "metadata": {
  "kernelspec": {
   "display_name": "Streamlit Notebook",
   "name": "streamlit"
  },
  "lastEditStatus": {
   "notebookId": "caon5ulwj2gdlaotmyit",
   "authorId": "2467409006619",
   "authorName": "SNOWFLAKEPRACTICE22",
   "authorEmail": "suryakanth450@gmail.com",
   "sessionId": "cc13a032-e036-4d5d-9104-c047023e6ee2",
   "lastEditTime": 1751131371540
  }
 },
 "nbformat_minor": 5,
 "nbformat": 4,
 "cells": [
  {
   "cell_type": "code",
   "id": "3775908f-ca36-4846-8f38-5adca39217f2",
   "metadata": {
    "language": "python",
    "name": "cell1"
   },
   "source": "# Import python packages\nimport streamlit as st\nimport pandas as pd\n\n# We can also use Snowpark for our analyses!\nfrom snowflake.snowpark.context import get_active_session\nsession = get_active_session()\n",
   "execution_count": null,
   "outputs": []
  },
  {
   "cell_type": "code",
   "id": "8d50cbf4-0c8d-4950-86cb-114990437ac9",
   "metadata": {
    "language": "sql",
    "name": "cell2"
   },
   "source": "-- Welcome to Snowflake Notebooks!\n-- Try out a SQL cell to generate some data.\nSELECT 'FRIDAY' as SNOWDAY, 0.2 as CHANCE_OF_SNOW\nUNION ALL\nSELECT 'SATURDAY',0.5\nUNION ALL \nSELECT 'SUNDAY', 0.9;",
   "execution_count": null,
   "outputs": []
  },
  {
   "cell_type": "code",
   "id": "c695373e-ac74-4b62-a1f1-08206cbd5c81",
   "metadata": {
    "language": "python",
    "name": "cell3"
   },
   "source": "# Then, we can use the python name to turn cell2 into a Pandas dataframe\nmy_df = cell2.to_pandas()\n\n# Chart the data\nst.subheader(\"Chance of SNOW ❄️\")\nst.line_chart(my_df, x='SNOWDAY', y='CHANCE_OF_SNOW')\n\n# Give it a go!\nst.subheader(\"Try it out yourself and show off your skills 🥇\")",
   "execution_count": null,
   "outputs": []
  },
  {
   "cell_type": "code",
   "id": "a073b63b-5830-418d-835d-8fc53672d075",
   "metadata": {
    "language": "python",
    "name": "cell4"
   },
   "outputs": [],
   "source": "from snowflake.snowpark.functions import ai_agg, col\nfrom snowflake.snowpark.context import get_active_session",
   "execution_count": null
  },
  {
   "cell_type": "code",
   "id": "24048c9a-ccbc-4da4-87dd-4a32e819206e",
   "metadata": {
    "language": "python",
    "name": "cell5"
   },
   "outputs": [],
   "source": "session = get_active_session()\ndf = session.create_dataframe([\n    [1, \"Excellent product!\"],\n    [1, \"Great battery life.\"],\n    [1, \"A bit expensive but worth it.\"],\n    [2, \"Terrible customer service.\"],\n    [2, \"Won’t buy again.\"],\n], schema=[\"product_id\", \"review\"])",
   "execution_count": null
  },
  {
   "cell_type": "code",
   "id": "98123bd3-d1ef-4bfe-8a03-a6312d941208",
   "metadata": {
    "language": "python",
    "name": "cell6",
    "codeCollapsed": false
   },
   "outputs": [],
   "source": "df",
   "execution_count": null
  },
  {
   "cell_type": "code",
   "id": "44ea73c6-e6fa-484b-b497-3a2cef6943e4",
   "metadata": {
    "language": "python",
    "name": "cell7"
   },
   "outputs": [],
   "source": "summary_df = df.group_by(\"Product_id\").agg(ai_agg(col(\"review\"),\"Summarize the customer reviews in one sentence.\"))\n\nsummary_df.show()",
   "execution_count": null
  },
  {
   "cell_type": "code",
   "id": "60b0e418-f506-4d63-b8d1-2ac6e3df22dd",
   "metadata": {
    "language": "python",
    "name": "cell8"
   },
   "outputs": [],
   "source": "from snowflake.snowpark.functions import ai_classify, col",
   "execution_count": null
  },
  {
   "cell_type": "code",
   "id": "682fe691-4c95-4235-af6b-a8c80b1ff980",
   "metadata": {
    "language": "python",
    "name": "cell9"
   },
   "outputs": [],
   "source": "df = session.create_dataframe([\n    [\"I dream of backpacking across South America.\"],\n    [\"I made the best pasta yesterday.\"],\n], schema=[\"sentence\"])\n\ndf.show()",
   "execution_count": null
  },
  {
   "cell_type": "code",
   "id": "6ab5b63f-7f36-428d-8474-639243a6e5d1",
   "metadata": {
    "language": "python",
    "name": "cell10"
   },
   "outputs": [],
   "source": "df = df.select(\"sentence\",ai_classify(col(\"sentence\"),[\"travel\", \"cooking\"]).alias(\"classification\"))\n\ndf.show()",
   "execution_count": null
  },
  {
   "cell_type": "code",
   "id": "52898300-f074-4406-aa52-632e61aae08d",
   "metadata": {
    "language": "python",
    "name": "cell11"
   },
   "outputs": [],
   "source": "from snowflake.snowpark.functions import ai_filter, prompt, col\n\ndf = session.create_dataframe([\"Canada\", \"Germany\", \"Japan\"], schema=[\"country\"])\ndf.show()",
   "execution_count": null
  },
  {
   "cell_type": "code",
   "id": "93863f93-3d3c-4a7e-992b-1428a91a38f1",
   "metadata": {
    "language": "python",
    "name": "cell12"
   },
   "outputs": [],
   "source": "filtered_df = df.select(\"Country\",ai_filter(prompt(\"Is {0} in asia ?\",col(\"country\"))).alias(\"is_in_asia\"))\nfiltered_df.show()",
   "execution_count": null
  },
  {
   "cell_type": "code",
   "id": "4447a8c5-0736-4417-9a4e-b69254f0063b",
   "metadata": {
    "language": "python",
    "name": "cell15"
   },
   "outputs": [],
   "source": "",
   "execution_count": null
  }
 ]
}